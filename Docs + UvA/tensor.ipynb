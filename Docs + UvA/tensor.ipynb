{
 "cells": [
  {
   "cell_type": "code",
   "execution_count": 2,
   "metadata": {},
   "outputs": [],
   "source": [
    "import torch"
   ]
  },
  {
   "cell_type": "markdown",
   "metadata": {},
   "source": [
    "# Tensor Creation"
   ]
  },
  {
   "cell_type": "markdown",
   "metadata": {},
   "source": [
    "### torch.Tensor vs. torch.tensor"
   ]
  },
  {
   "cell_type": "code",
   "execution_count": 3,
   "metadata": {},
   "outputs": [
    {
     "name": "stdout",
     "output_type": "stream",
     "text": [
      "original : [1] new : tensor([1.])\n",
      "original : [2] new : tensor([1.])\n"
     ]
    }
   ],
   "source": [
    "original_data = [1]\n",
    "#original_data = torch.Tensor([1])\n",
    "new_data = torch.Tensor(original_data)\n",
    "print(f\"original : {original_data} new : {new_data}\")\n",
    " \n",
    "# original data를 수정\n",
    "original_data[0] = 2\n",
    "print(f\"original : {original_data} new : {new_data}\")"
   ]
  },
  {
   "cell_type": "code",
   "execution_count": 25,
   "metadata": {},
   "outputs": [
    {
     "data": {
      "text/plain": [
       "tensor([7.4772e-35])"
      ]
     },
     "execution_count": 25,
     "metadata": {},
     "output_type": "execute_result"
    }
   ],
   "source": [
    " torch.Tensor(1)"
   ]
  },
  {
   "cell_type": "code",
   "execution_count": 4,
   "metadata": {},
   "outputs": [
    {
     "name": "stdout",
     "output_type": "stream",
     "text": [
      "original : tensor([1]) new : tensor([1])\n",
      "original : tensor([2]) new : tensor([1])\n"
     ]
    },
    {
     "name": "stderr",
     "output_type": "stream",
     "text": [
      "/tmp/ipykernel_28900/1662099900.py:3: UserWarning: To copy construct from a tensor, it is recommended to use sourceTensor.clone().detach() or sourceTensor.clone().detach().requires_grad_(True), rather than torch.tensor(sourceTensor).\n",
      "  new_data = torch.tensor(original_data)\n"
     ]
    }
   ],
   "source": [
    "#original_data = [1]\n",
    "original_data = torch.tensor([1])\n",
    "new_data = torch.tensor(original_data)\n",
    "print(f\"original : {original_data} new : {new_data}\")\n",
    "\n",
    "# data를 수정하자\n",
    "original_data[0] = 2\n",
    "print(f\"original : {original_data} new : {new_data}\")"
   ]
  },
  {
   "cell_type": "code",
   "execution_count": 27,
   "metadata": {},
   "outputs": [
    {
     "name": "stdout",
     "output_type": "stream",
     "text": [
      "original : tensor([1]) new : tensor([1])\n",
      "original : tensor([2]) new : tensor([2])\n"
     ]
    }
   ],
   "source": [
    "#original_data = [1]\n",
    "original_data = torch.tensor([1])\n",
    "new_data = torch.as_tensor(original_data)\n",
    "print(f\"original : {original_data} new : {new_data}\")\n",
    "\n",
    "# data를 수정하자\n",
    "original_data[0] = 2\n",
    "print(f\"original : {original_data} new : {new_data}\")"
   ]
  },
  {
   "cell_type": "code",
   "execution_count": 29,
   "metadata": {},
   "outputs": [
    {
     "ename": "TypeError",
     "evalue": "expected np.ndarray (got list)",
     "output_type": "error",
     "traceback": [
      "\u001b[0;31m---------------------------------------------------------------------------\u001b[0m",
      "\u001b[0;31mTypeError\u001b[0m                                 Traceback (most recent call last)",
      "\u001b[1;32m/root/pytorch_practice/UvA/tutorial2.ipynb Cell 8\u001b[0m line \u001b[0;36m2\n\u001b[1;32m      <a href='vscode-notebook-cell://attached-container%2B7b22636f6e7461696e65724e616d65223a222f74657374227d/root/pytorch_practice/UvA/tutorial2.ipynb#X21sdnNjb2RlLXJlbW90ZQ%3D%3D?line=0'>1</a>\u001b[0m original_data \u001b[39m=\u001b[39m [\u001b[39m1\u001b[39m]\n\u001b[0;32m----> <a href='vscode-notebook-cell://attached-container%2B7b22636f6e7461696e65724e616d65223a222f74657374227d/root/pytorch_practice/UvA/tutorial2.ipynb#X21sdnNjb2RlLXJlbW90ZQ%3D%3D?line=1'>2</a>\u001b[0m new_data \u001b[39m=\u001b[39m torch\u001b[39m.\u001b[39;49mfrom_numpy(original_data)\n\u001b[1;32m      <a href='vscode-notebook-cell://attached-container%2B7b22636f6e7461696e65724e616d65223a222f74657374227d/root/pytorch_practice/UvA/tutorial2.ipynb#X21sdnNjb2RlLXJlbW90ZQ%3D%3D?line=2'>3</a>\u001b[0m \u001b[39mprint\u001b[39m(\u001b[39mf\u001b[39m\u001b[39m\"\u001b[39m\u001b[39moriginal : \u001b[39m\u001b[39m{\u001b[39;00moriginal_data\u001b[39m}\u001b[39;00m\u001b[39m new : \u001b[39m\u001b[39m{\u001b[39;00mnew_data\u001b[39m}\u001b[39;00m\u001b[39m\"\u001b[39m)\n\u001b[1;32m      <a href='vscode-notebook-cell://attached-container%2B7b22636f6e7461696e65724e616d65223a222f74657374227d/root/pytorch_practice/UvA/tutorial2.ipynb#X21sdnNjb2RlLXJlbW90ZQ%3D%3D?line=4'>5</a>\u001b[0m \u001b[39m# data를 수정하자\u001b[39;00m\n",
      "\u001b[0;31mTypeError\u001b[0m: expected np.ndarray (got list)"
     ]
    }
   ],
   "source": [
    "original_data = [1]\n",
    "new_data = torch.from_numpy(original_data)\n",
    "print(f\"original : {original_data} new : {new_data}\")\n",
    "\n",
    "# data를 수정하자\n",
    "original_data[0] = 2\n",
    "print(f\"original : {original_data} new : {new_data}\")"
   ]
  },
  {
   "cell_type": "code",
   "execution_count": null,
   "metadata": {},
   "outputs": [],
   "source": []
  }
 ],
 "metadata": {
  "kernelspec": {
   "display_name": "base",
   "language": "python",
   "name": "python3"
  },
  "language_info": {
   "codemirror_mode": {
    "name": "ipython",
    "version": 3
   },
   "file_extension": ".py",
   "mimetype": "text/x-python",
   "name": "python",
   "nbconvert_exporter": "python",
   "pygments_lexer": "ipython3",
   "version": "3.10.13"
  }
 },
 "nbformat": 4,
 "nbformat_minor": 2
}
